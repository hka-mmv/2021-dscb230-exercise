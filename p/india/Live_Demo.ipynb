{
 "metadata": {
  "language_info": {
   "codemirror_mode": {
    "name": "ipython",
    "version": 3
   },
   "file_extension": ".py",
   "mimetype": "text/x-python",
   "name": "python",
   "nbconvert_exporter": "python",
   "pygments_lexer": "ipython3",
   "version": "3.7.10"
  },
  "orig_nbformat": 4,
  "kernelspec": {
   "name": "python3",
   "display_name": "Python 3.7.10 64-bit ('dsfs': conda)"
  },
  "interpreter": {
   "hash": "12b0dd9f6fa5d6bd66abc19c712e5e031b2cacaacd386e88b2ffeed48ccf1f16"
  }
 },
 "nbformat": 4,
 "nbformat_minor": 2,
 "cells": [
  {
   "cell_type": "code",
   "execution_count": 1,
   "metadata": {},
   "outputs": [],
   "source": [
    "import pandas as pd\n",
    "import numpy as np \n",
    "import matplotlib.pyplot as plt"
   ]
  },
  {
   "source": [
    "### csv-Datei einlesen"
   ],
   "cell_type": "markdown",
   "metadata": {}
  },
  {
   "cell_type": "code",
   "execution_count": null,
   "metadata": {},
   "outputs": [],
   "source": [
    "df = pd.read_csv(\"AB_NYC_2019.csv\")"
   ]
  },
  {
   "cell_type": "code",
   "execution_count": null,
   "metadata": {},
   "outputs": [],
   "source": [
    "\n",
    "df=pd.read_csv(\"AB_NYC_2019_CLEAN.csv\")\n",
    "dfCompl=pd.read_csv(\"NYPD_Complaint_Map__Year_to_Date.csv\")\n",
    "dfsq=pd.read_csv('census_block_loc.csv')\n",
    "\n",
    "dfsquirrel=pd.read_csv('2018_Central_Park_Squirrel_Census_-_Squirrel_Data.csv')"
   ]
  },
  {
   "source": [
    "# 1. Data Understanding"
   ],
   "cell_type": "markdown",
   "metadata": {}
  },
  {
   "cell_type": "code",
   "execution_count": null,
   "metadata": {},
   "outputs": [],
   "source": [
    "# Get datatypes of dataset\n",
    "df.dtypes"
   ]
  },
  {
   "cell_type": "code",
   "execution_count": null,
   "metadata": {},
   "outputs": [],
   "source": [
    "# More metadata of Dataset in addition to the matadata on Kaggle\n",
    "df.describe()"
   ]
  },
  {
   "source": [],
   "cell_type": "markdown",
   "metadata": {}
  },
  {
   "source": [
    "# 2. Data Cleaning"
   ],
   "cell_type": "markdown",
   "metadata": {}
  },
  {
   "cell_type": "code",
   "execution_count": null,
   "metadata": {},
   "outputs": [],
   "source": [
    "# Null-Werte finden\n",
    "df.isna().sum()"
   ]
  },
  {
   "source": [
    "Spalte 'last_review' als Datetime-Objekt parsen"
   ],
   "cell_type": "markdown",
   "metadata": {}
  },
  {
   "cell_type": "code",
   "execution_count": null,
   "metadata": {},
   "outputs": [],
   "source": [
    "# col: last_review to datetime\n",
    "df[\"last_review\"] = pd.to_datetime(df[\"last_review\"])"
   ]
  },
  {
   "source": [
    "Null-Werte aus der Spalte 'name' entfernen und in der Spalte 'reviews_per_month' mit Nullen auffüllen"
   ],
   "cell_type": "markdown",
   "metadata": {}
  },
  {
   "cell_type": "code",
   "execution_count": null,
   "metadata": {},
   "outputs": [],
   "source": [
    "# Drop NaN from Col: name / replace NaN from Col: reviews_per_month\n",
    "df = df.dropna(subset=[\"name\"])\n",
    "df[\"reviews_per_month\"]=df[\"reviews_per_month\"].fillna(0)"
   ]
  },
  {
   "source": [
    "Bereinigtes Daten-Set in eine neue csv-Datei schreiben"
   ],
   "cell_type": "markdown",
   "metadata": {}
  },
  {
   "cell_type": "code",
   "execution_count": null,
   "metadata": {},
   "outputs": [],
   "source": [
    "# export data to new CSV\n",
    "df.to_csv(\"AB_NYC_2019_CLEAN.csv\")"
   ]
  },
  {
   "source": [],
   "cell_type": "markdown",
   "metadata": {}
  },
  {
   "source": [
    "# 3. Datenvisualisierung"
   ],
   "cell_type": "markdown",
   "metadata": {}
  },
  {
   "cell_type": "code",
   "execution_count": 2,
   "metadata": {},
   "outputs": [],
   "source": [
    "df = pd.read_csv(\"AB_NYC_2019_CLEAN.csv\")"
   ]
  },
  {
   "source": [
    "### Einige beispielhafte 'Group By'-Abfragen"
   ],
   "cell_type": "markdown",
   "metadata": {}
  },
  {
   "source": [
    "Berechnen des durchschnittlichen Preises und die Anzahl der Preise, die für die Berechnung einbezogen wurden gruppiert nach den Spalten 'neighbourhood_group' und 'neighbourhood'."
   ],
   "cell_type": "markdown",
   "metadata": {}
  },
  {
   "cell_type": "code",
   "execution_count": 13,
   "metadata": {},
   "outputs": [
    {
     "output_type": "execute_result",
     "data": {
      "text/plain": [
       "                                     price      \n",
       "                                      mean count\n",
       "neighbourhood_group neighbourhood               \n",
       "Staten Island       Fort Wadsworth  800.00     1\n",
       "                    Woodrow         700.00     1\n",
       "Manhattan           Tribeca         490.64   177\n",
       "Brooklyn            Sea Gate        487.86     7\n",
       "Bronx               Riverdale       442.09    11\n",
       "...                                    ...   ...\n",
       "Staten Island       New Dorp         57.00     1\n",
       "Bronx               Soundview        53.47    15\n",
       "                    Tremont          51.55    11\n",
       "                    Hunts Point      50.50    18\n",
       "Staten Island       Bull's Head      47.33     6\n",
       "\n",
       "[221 rows x 2 columns]"
      ],
      "text/html": "<div>\n<style scoped>\n    .dataframe tbody tr th:only-of-type {\n        vertical-align: middle;\n    }\n\n    .dataframe tbody tr th {\n        vertical-align: top;\n    }\n\n    .dataframe thead tr th {\n        text-align: left;\n    }\n\n    .dataframe thead tr:last-of-type th {\n        text-align: right;\n    }\n</style>\n<table border=\"1\" class=\"dataframe\">\n  <thead>\n    <tr>\n      <th></th>\n      <th></th>\n      <th colspan=\"2\" halign=\"left\">price</th>\n    </tr>\n    <tr>\n      <th></th>\n      <th></th>\n      <th>mean</th>\n      <th>count</th>\n    </tr>\n    <tr>\n      <th>neighbourhood_group</th>\n      <th>neighbourhood</th>\n      <th></th>\n      <th></th>\n    </tr>\n  </thead>\n  <tbody>\n    <tr>\n      <th rowspan=\"2\" valign=\"top\">Staten Island</th>\n      <th>Fort Wadsworth</th>\n      <td>800.00</td>\n      <td>1</td>\n    </tr>\n    <tr>\n      <th>Woodrow</th>\n      <td>700.00</td>\n      <td>1</td>\n    </tr>\n    <tr>\n      <th>Manhattan</th>\n      <th>Tribeca</th>\n      <td>490.64</td>\n      <td>177</td>\n    </tr>\n    <tr>\n      <th>Brooklyn</th>\n      <th>Sea Gate</th>\n      <td>487.86</td>\n      <td>7</td>\n    </tr>\n    <tr>\n      <th>Bronx</th>\n      <th>Riverdale</th>\n      <td>442.09</td>\n      <td>11</td>\n    </tr>\n    <tr>\n      <th>...</th>\n      <th>...</th>\n      <td>...</td>\n      <td>...</td>\n    </tr>\n    <tr>\n      <th>Staten Island</th>\n      <th>New Dorp</th>\n      <td>57.00</td>\n      <td>1</td>\n    </tr>\n    <tr>\n      <th rowspan=\"3\" valign=\"top\">Bronx</th>\n      <th>Soundview</th>\n      <td>53.47</td>\n      <td>15</td>\n    </tr>\n    <tr>\n      <th>Tremont</th>\n      <td>51.55</td>\n      <td>11</td>\n    </tr>\n    <tr>\n      <th>Hunts Point</th>\n      <td>50.50</td>\n      <td>18</td>\n    </tr>\n    <tr>\n      <th>Staten Island</th>\n      <th>Bull's Head</th>\n      <td>47.33</td>\n      <td>6</td>\n    </tr>\n  </tbody>\n</table>\n<p>221 rows × 2 columns</p>\n</div>"
     },
     "metadata": {},
     "execution_count": 13
    }
   ],
   "source": [
    "df.groupby(['neighbourhood_group','neighbourhood']).agg({'price' : ['mean','count']}).round(decimals=2).sort_values((\"price\",\"mean\"),ascending=False)"
   ]
  },
  {
   "source": [
    "Berechnen der durchschnittlichen Anzahl an Reviews pro Monat für jeden Anbieter."
   ],
   "cell_type": "markdown",
   "metadata": {}
  },
  {
   "cell_type": "code",
   "execution_count": 14,
   "metadata": {},
   "outputs": [
    {
     "output_type": "execute_result",
     "data": {
      "text/plain": [
       "           reviews_per_month\n",
       "host_name                   \n",
       "Nalicia                18.13\n",
       "Dona                   13.99\n",
       "Aisling                13.42\n",
       "Malini                 13.15\n",
       "Anabell                12.99\n",
       "...                      ...\n",
       "Chin-Feng               0.00\n",
       "Sujatha                 0.00\n",
       "Suhail                  0.00\n",
       "Jaxyn                   0.00\n",
       "현선                      0.00\n",
       "\n",
       "[11450 rows x 1 columns]"
      ],
      "text/html": "<div>\n<style scoped>\n    .dataframe tbody tr th:only-of-type {\n        vertical-align: middle;\n    }\n\n    .dataframe tbody tr th {\n        vertical-align: top;\n    }\n\n    .dataframe thead th {\n        text-align: right;\n    }\n</style>\n<table border=\"1\" class=\"dataframe\">\n  <thead>\n    <tr style=\"text-align: right;\">\n      <th></th>\n      <th>reviews_per_month</th>\n    </tr>\n    <tr>\n      <th>host_name</th>\n      <th></th>\n    </tr>\n  </thead>\n  <tbody>\n    <tr>\n      <th>Nalicia</th>\n      <td>18.13</td>\n    </tr>\n    <tr>\n      <th>Dona</th>\n      <td>13.99</td>\n    </tr>\n    <tr>\n      <th>Aisling</th>\n      <td>13.42</td>\n    </tr>\n    <tr>\n      <th>Malini</th>\n      <td>13.15</td>\n    </tr>\n    <tr>\n      <th>Anabell</th>\n      <td>12.99</td>\n    </tr>\n    <tr>\n      <th>...</th>\n      <td>...</td>\n    </tr>\n    <tr>\n      <th>Chin-Feng</th>\n      <td>0.00</td>\n    </tr>\n    <tr>\n      <th>Sujatha</th>\n      <td>0.00</td>\n    </tr>\n    <tr>\n      <th>Suhail</th>\n      <td>0.00</td>\n    </tr>\n    <tr>\n      <th>Jaxyn</th>\n      <td>0.00</td>\n    </tr>\n    <tr>\n      <th>현선</th>\n      <td>0.00</td>\n    </tr>\n  </tbody>\n</table>\n<p>11450 rows × 1 columns</p>\n</div>"
     },
     "metadata": {},
     "execution_count": 14
    }
   ],
   "source": [
    "df.groupby('host_name')[['reviews_per_month']].mean().round(decimals=2).sort_values('reviews_per_month', ascending=False)"
   ]
  },
  {
   "source": [
    "Anzahl der Reviews gruppiert nach dem Anbieter."
   ],
   "cell_type": "markdown",
   "metadata": {}
  },
  {
   "cell_type": "code",
   "execution_count": 16,
   "metadata": {},
   "outputs": [
    {
     "output_type": "execute_result",
     "data": {
      "text/plain": [
       "              number_of_reviews\n",
       "host_name                      \n",
       "Michael                     417\n",
       "David                       403\n",
       "Sonder (NYC)                327\n",
       "John                        294\n",
       "Alex                        279\n",
       "Blueground                  232\n",
       "Sarah                       227\n",
       "Daniel                      226\n",
       "Jessica                     205\n",
       "Maria                       204"
      ],
      "text/html": "<div>\n<style scoped>\n    .dataframe tbody tr th:only-of-type {\n        vertical-align: middle;\n    }\n\n    .dataframe tbody tr th {\n        vertical-align: top;\n    }\n\n    .dataframe thead th {\n        text-align: right;\n    }\n</style>\n<table border=\"1\" class=\"dataframe\">\n  <thead>\n    <tr style=\"text-align: right;\">\n      <th></th>\n      <th>number_of_reviews</th>\n    </tr>\n    <tr>\n      <th>host_name</th>\n      <th></th>\n    </tr>\n  </thead>\n  <tbody>\n    <tr>\n      <th>Michael</th>\n      <td>417</td>\n    </tr>\n    <tr>\n      <th>David</th>\n      <td>403</td>\n    </tr>\n    <tr>\n      <th>Sonder (NYC)</th>\n      <td>327</td>\n    </tr>\n    <tr>\n      <th>John</th>\n      <td>294</td>\n    </tr>\n    <tr>\n      <th>Alex</th>\n      <td>279</td>\n    </tr>\n    <tr>\n      <th>Blueground</th>\n      <td>232</td>\n    </tr>\n    <tr>\n      <th>Sarah</th>\n      <td>227</td>\n    </tr>\n    <tr>\n      <th>Daniel</th>\n      <td>226</td>\n    </tr>\n    <tr>\n      <th>Jessica</th>\n      <td>205</td>\n    </tr>\n    <tr>\n      <th>Maria</th>\n      <td>204</td>\n    </tr>\n  </tbody>\n</table>\n</div>"
     },
     "metadata": {},
     "execution_count": 16
    }
   ],
   "source": [
    "df.groupby('host_name')[['number_of_reviews']].count().sort_values('number_of_reviews', ascending=False).head(10)"
   ]
  },
  {
   "source": [
    "Berechnen des durchschnittlichen Preis, der Standardabweichung sowie maximaler und minimaler Preis und Anzahl der in die Berechnung eingeflossenen Preise pro 'room_type'."
   ],
   "cell_type": "markdown",
   "metadata": {}
  },
  {
   "cell_type": "code",
   "execution_count": 18,
   "metadata": {},
   "outputs": [
    {
     "output_type": "execute_result",
     "data": {
      "text/plain": [
       "                  price                          \n",
       "                   mean     std  count min    max\n",
       "room_type                                        \n",
       "Entire home/apt  211.79  284.08  25402   0  10000\n",
       "Private room      89.79  160.23  22318   0  10000\n",
       "Shared room       70.08  101.75   1159   0   1800"
      ],
      "text/html": "<div>\n<style scoped>\n    .dataframe tbody tr th:only-of-type {\n        vertical-align: middle;\n    }\n\n    .dataframe tbody tr th {\n        vertical-align: top;\n    }\n\n    .dataframe thead tr th {\n        text-align: left;\n    }\n\n    .dataframe thead tr:last-of-type th {\n        text-align: right;\n    }\n</style>\n<table border=\"1\" class=\"dataframe\">\n  <thead>\n    <tr>\n      <th></th>\n      <th colspan=\"5\" halign=\"left\">price</th>\n    </tr>\n    <tr>\n      <th></th>\n      <th>mean</th>\n      <th>std</th>\n      <th>count</th>\n      <th>min</th>\n      <th>max</th>\n    </tr>\n    <tr>\n      <th>room_type</th>\n      <th></th>\n      <th></th>\n      <th></th>\n      <th></th>\n      <th></th>\n    </tr>\n  </thead>\n  <tbody>\n    <tr>\n      <th>Entire home/apt</th>\n      <td>211.79</td>\n      <td>284.08</td>\n      <td>25402</td>\n      <td>0</td>\n      <td>10000</td>\n    </tr>\n    <tr>\n      <th>Private room</th>\n      <td>89.79</td>\n      <td>160.23</td>\n      <td>22318</td>\n      <td>0</td>\n      <td>10000</td>\n    </tr>\n    <tr>\n      <th>Shared room</th>\n      <td>70.08</td>\n      <td>101.75</td>\n      <td>1159</td>\n      <td>0</td>\n      <td>1800</td>\n    </tr>\n  </tbody>\n</table>\n</div>"
     },
     "metadata": {},
     "execution_count": 18
    }
   ],
   "source": [
    "df.groupby('room_type').agg({'price' : ['mean', 'std', 'count', 'min', 'max']}).round(decimals=2).sort_values(('price', 'mean'), ascending=False)"
   ]
  },
  {
   "source": [
    "### Graphische Visualisierung einiger Abfragen"
   ],
   "cell_type": "markdown",
   "metadata": {}
  },
  {
   "cell_type": "code",
   "execution_count": null,
   "metadata": {},
   "outputs": [],
   "source": [
    "df=pd.read_csv(\"AB_NYC_2019_CLEAN.csv\")\n",
    "dfCompl=pd.read_csv(\"NYPD_Complaint_Map__Year_to_Date.csv\")\n",
    "dfsq=pd.read_csv(\"census_block_loc.csv\")"
   ]
  },
  {
   "source": [
    "Scatter-Map für New York erstellt"
   ],
   "cell_type": "markdown",
   "metadata": {}
  },
  {
   "cell_type": "code",
   "execution_count": null,
   "metadata": {},
   "outputs": [],
   "source": [
    "# Heat map of Listings\n",
    "# read Img\n",
    "img1 = plt.imread(\"NYC_Updated.jpg\")\n",
    "fig1=plt.figure()\n",
    "ax1=fig1.add_axes([0,0,1,1])\n",
    "\n",
    "# plot Data Points\n",
    "ax1.scatter(df[\"longitude\"],df[\"latitude\"],s=df[\"price\"]/100)\n",
    "\n",
    "# Graph axes dimentions for img \n",
    "ext1=[-74.24442, -73.71299, 40.49979,40.91306]\n",
    "\n",
    "# plot img in background \n",
    "ax1.imshow(img1,extent=ext1)"
   ]
  },
  {
   "cell_type": "code",
   "execution_count": null,
   "metadata": {},
   "outputs": [],
   "source": [
    "# Heat map of Listings\n",
    "# read Img\n",
    "img2 = plt.imread(\"NYC_Updated.jpg\")\n",
    "fig2=plt.figure()\n",
    "ax2=fig2.add_axes([0,0,1,1])\n",
    "\n",
    "# plot Data Points\n",
    "df2_nei=df.groupby([\"neighbourhood\"]).agg({\"price\" : \"mean\", \"longitude\" : \"mean\", \"latitude\" : \"mean\", \"neighbourhood_group\" : \"count\"})\n",
    "ax2.scatter(df2_nei[\"longitude\"],df2_nei[\"latitude\"],s=df2_nei[\"neighbourhood_group\"]/10)\n",
    "\n",
    "# Graph axes dimentions for img \n",
    "ext2=[-74.24442, -73.71299, 40.49979,40.91306]\n",
    "\n",
    "# plot img in background \n",
    "ax2.imshow(img2,extent=ext2)"
   ]
  },
  {
   "cell_type": "code",
   "execution_count": null,
   "metadata": {},
   "outputs": [],
   "source": [
    "# Heat map of complaints\n",
    "img = plt.imread(\"NYC_Updated.jpg\")\n",
    "fig=plt.figure()\n",
    "ax=fig.add_axes([0,0,1,1])\n",
    "\n",
    "# plot Data Points\n",
    "ax.scatter(dfCompl[\"Longitude\"],dfCompl[\"Latitude\"],s=0.7)\n",
    "\n",
    "# Graph axes dimentions for img \n",
    "ext=[-74.24442, -73.71299, 40.49979,40.91306]\n",
    "\n",
    "# plot img in background \n",
    "ax.imshow(img,extent=ext)"
   ]
  },
  {
   "cell_type": "code",
   "execution_count": null,
   "metadata": {},
   "outputs": [],
   "source": [
    "# Heat map of complaints\n",
    "img = plt.imread(\"NYC_Updated.jpg\")\n",
    "fig=plt.figure()\n",
    "ax=fig.add_axes([0,0,1,1])\n",
    "\n",
    "dfCompl_gr=dfCompl.groupby(['BORO_NM']).agg({'Longitude':'mean','Latitude':'mean','CMPLNT_NUM':'count'})\n",
    "\n",
    "# plot Data Points\n",
    "ax.scatter(dfCompl_gr[\"Longitude\"],dfCompl_gr[\"Latitude\"],s=dfCompl_gr[\"CMPLNT_NUM\"]/10)\n",
    "\n",
    "# Graph axes dimentions for img \n",
    "ext=[-74.24442, -73.71299, 40.49979,40.91306]\n",
    "\n",
    "# plot img in background \n",
    "ax.imshow(img,extent=ext)"
   ]
  },
  {
   "cell_type": "code",
   "execution_count": null,
   "metadata": {},
   "outputs": [],
   "source": []
  },
  {
   "cell_type": "code",
   "execution_count": null,
   "metadata": {},
   "outputs": [],
   "source": [
    "# mean Price grouped by neighbourhood\n",
    "df_hist1=df.groupby(['neighbourhood_group']).agg({'price':['mean']}).sort_values((\"price\",\"mean\"),ascending=False)\n",
    "df_hist1.plot(kind='bar')"
   ]
  },
  {
   "cell_type": "code",
   "execution_count": null,
   "metadata": {},
   "outputs": [],
   "source": [
    "# count of listings grouped by neighbourhood\n",
    "df_hist2=df.groupby(['neighbourhood_group']).agg({'price':['count']}).sort_values((\"price\",\"count\"),ascending=False)\n",
    "df_hist1.plot(kind='bar')"
   ]
  },
  {
   "cell_type": "code",
   "execution_count": null,
   "metadata": {},
   "outputs": [],
   "source": [
    "# mean prices in Manhatans neighbourhoods\n",
    "fig, ax = plt.subplots(figsize=(20,5))\n",
    "df_manhatan_prices=df[df['neighbourhood_group']=='Manhattan'].groupby('neighbourhood').price.mean()\n",
    "df_manhatan_prices.plot(kind='bar',ax=ax)"
   ]
  },
  {
   "cell_type": "code",
   "execution_count": null,
   "metadata": {},
   "outputs": [],
   "source": [
    "# mean price by neighbourhood amd room type\n",
    "fig, ax = plt.subplots(figsize=(20,5))\n",
    "df.groupby(['neighbourhood_group','room_type']).price.mean().unstack().plot(kind='bar',ax=ax)"
   ]
  },
  {
   "cell_type": "code",
   "execution_count": null,
   "metadata": {},
   "outputs": [],
   "source": [
    "# count of complaints by Neighbourhood\n",
    "dfComG=dfCompl.groupby(['BORO_NM']).CMPLNT_NUM.count().plot(kind='bar')"
   ]
  }
 ]
}